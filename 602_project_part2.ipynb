{
 "cells": [
  {
   "cell_type": "code",
   "execution_count": 1,
   "metadata": {},
   "outputs": [],
   "source": [
    "import pandas as pd\n",
    "import warnings\n",
    "warnings.filterwarnings(\"ignore\")"
   ]
  },
  {
   "cell_type": "code",
   "execution_count": 2,
   "metadata": {},
   "outputs": [],
   "source": [
    "data = pd.read_csv('/Users/karteekedumudi/Desktop/sentiment_data.csv')"
   ]
  },
  {
   "cell_type": "code",
   "execution_count": 3,
   "metadata": {},
   "outputs": [],
   "source": [
    "data_final = pd.read_csv('/Users/karteekedumudi/Desktop/Final_Sentiment_data.csv')"
   ]
  },
  {
   "cell_type": "code",
   "execution_count": 4,
   "metadata": {},
   "outputs": [
    {
     "data": {
      "text/plain": [
       "Index(['Unnamed: 0', 'id', 'ticker', 'title', 'category', 'content',\n",
       "       'release_date', 'provider', 'words', 'P/N', 'Neg', 'Neu', 'Pos',\n",
       "       'Compound', 'High', 'Low', 'Open', 'Close', 'Volume', 'Adj Close',\n",
       "       'Stock_op'],\n",
       "      dtype='object')"
      ]
     },
     "execution_count": 4,
     "metadata": {},
     "output_type": "execute_result"
    }
   ],
   "source": [
    "data_final.columns"
   ]
  },
  {
   "cell_type": "code",
   "execution_count": 5,
   "metadata": {},
   "outputs": [],
   "source": [
    "df = data_final[['id','ticker','category','release_date','provider','P/N','Neg', 'Neu', 'Pos',\n",
    "       'Compound','High', 'Low', 'Open', 'Close', 'Volume', 'Adj Close','Stock_op']]"
   ]
  },
  {
   "cell_type": "code",
   "execution_count": 6,
   "metadata": {},
   "outputs": [
    {
     "name": "stdout",
     "output_type": "stream",
     "text": [
      "<class 'pandas.core.frame.DataFrame'>\n",
      "RangeIndex: 165209 entries, 0 to 165208\n",
      "Data columns (total 17 columns):\n",
      " #   Column        Non-Null Count   Dtype  \n",
      "---  ------        --------------   -----  \n",
      " 0   id            163589 non-null  object \n",
      " 1   ticker        163589 non-null  object \n",
      " 2   category      163482 non-null  object \n",
      " 3   release_date  163328 non-null  object \n",
      " 4   provider      163328 non-null  object \n",
      " 5   P/N           163328 non-null  object \n",
      " 6   Neg           163328 non-null  float64\n",
      " 7   Neu           163328 non-null  float64\n",
      " 8   Pos           163328 non-null  float64\n",
      " 9   Compound      163328 non-null  object \n",
      " 10  High          163328 non-null  float64\n",
      " 11  Low           163328 non-null  object \n",
      " 12  Open          163328 non-null  object \n",
      " 13  Close         163221 non-null  float64\n",
      " 14  Volume        163221 non-null  float64\n",
      " 15  Adj Close     163221 non-null  float64\n",
      " 16  Stock_op      163174 non-null  float64\n",
      "dtypes: float64(8), object(9)\n",
      "memory usage: 21.4+ MB\n"
     ]
    }
   ],
   "source": [
    "df.info()"
   ]
  },
  {
   "cell_type": "code",
   "execution_count": 7,
   "metadata": {},
   "outputs": [
    {
     "data": {
      "text/html": [
       "<div>\n",
       "<style scoped>\n",
       "    .dataframe tbody tr th:only-of-type {\n",
       "        vertical-align: middle;\n",
       "    }\n",
       "\n",
       "    .dataframe tbody tr th {\n",
       "        vertical-align: top;\n",
       "    }\n",
       "\n",
       "    .dataframe thead th {\n",
       "        text-align: right;\n",
       "    }\n",
       "</style>\n",
       "<table border=\"1\" class=\"dataframe\">\n",
       "  <thead>\n",
       "    <tr style=\"text-align: right;\">\n",
       "      <th></th>\n",
       "      <th>id</th>\n",
       "      <th>ticker</th>\n",
       "      <th>category</th>\n",
       "      <th>release_date</th>\n",
       "      <th>provider</th>\n",
       "      <th>P/N</th>\n",
       "      <th>Neg</th>\n",
       "      <th>Neu</th>\n",
       "      <th>Pos</th>\n",
       "      <th>Compound</th>\n",
       "      <th>High</th>\n",
       "      <th>Low</th>\n",
       "      <th>Open</th>\n",
       "      <th>Close</th>\n",
       "      <th>Volume</th>\n",
       "      <th>Adj Close</th>\n",
       "      <th>Stock_op</th>\n",
       "    </tr>\n",
       "  </thead>\n",
       "  <tbody>\n",
       "    <tr>\n",
       "      <th>0</th>\n",
       "      <td>221591</td>\n",
       "      <td>UBER</td>\n",
       "      <td>opinion</td>\n",
       "      <td>1/22/20</td>\n",
       "      <td>Zacks Investment Research</td>\n",
       "      <td>1</td>\n",
       "      <td>0.061</td>\n",
       "      <td>0.808</td>\n",
       "      <td>0.132</td>\n",
       "      <td>0.9723</td>\n",
       "      <td>37.939999</td>\n",
       "      <td>36.91999817</td>\n",
       "      <td>37.93999863</td>\n",
       "      <td>37.040001</td>\n",
       "      <td>29765200.0</td>\n",
       "      <td>37.040001</td>\n",
       "      <td>0.0</td>\n",
       "    </tr>\n",
       "    <tr>\n",
       "      <th>1</th>\n",
       "      <td>221600</td>\n",
       "      <td>UBER</td>\n",
       "      <td>opinion</td>\n",
       "      <td>1/22/20</td>\n",
       "      <td>Zacks Investment Research</td>\n",
       "      <td>1</td>\n",
       "      <td>0.050</td>\n",
       "      <td>0.809</td>\n",
       "      <td>0.141</td>\n",
       "      <td>0.9618</td>\n",
       "      <td>37.939999</td>\n",
       "      <td>36.91999817</td>\n",
       "      <td>37.93999863</td>\n",
       "      <td>37.040001</td>\n",
       "      <td>29765200.0</td>\n",
       "      <td>37.040001</td>\n",
       "      <td>0.0</td>\n",
       "    </tr>\n",
       "    <tr>\n",
       "      <th>2</th>\n",
       "      <td>221601</td>\n",
       "      <td>UBER</td>\n",
       "      <td>news</td>\n",
       "      <td>1/22/20</td>\n",
       "      <td>Investing.com</td>\n",
       "      <td>1</td>\n",
       "      <td>0.047</td>\n",
       "      <td>0.788</td>\n",
       "      <td>0.165</td>\n",
       "      <td>0.9811</td>\n",
       "      <td>37.939999</td>\n",
       "      <td>36.91999817</td>\n",
       "      <td>37.93999863</td>\n",
       "      <td>37.040001</td>\n",
       "      <td>29765200.0</td>\n",
       "      <td>37.040001</td>\n",
       "      <td>0.0</td>\n",
       "    </tr>\n",
       "    <tr>\n",
       "      <th>3</th>\n",
       "      <td>221602</td>\n",
       "      <td>UBER</td>\n",
       "      <td>news</td>\n",
       "      <td>1/22/20</td>\n",
       "      <td>MarketWatch</td>\n",
       "      <td>1</td>\n",
       "      <td>0.000</td>\n",
       "      <td>0.798</td>\n",
       "      <td>0.202</td>\n",
       "      <td>0.9565</td>\n",
       "      <td>37.939999</td>\n",
       "      <td>36.91999817</td>\n",
       "      <td>37.93999863</td>\n",
       "      <td>37.040001</td>\n",
       "      <td>29765200.0</td>\n",
       "      <td>37.040001</td>\n",
       "      <td>0.0</td>\n",
       "    </tr>\n",
       "    <tr>\n",
       "      <th>4</th>\n",
       "      <td>221603</td>\n",
       "      <td>UBER</td>\n",
       "      <td>news</td>\n",
       "      <td>1/22/20</td>\n",
       "      <td>Reuters</td>\n",
       "      <td>1</td>\n",
       "      <td>0.020</td>\n",
       "      <td>0.920</td>\n",
       "      <td>0.060</td>\n",
       "      <td>0.7845</td>\n",
       "      <td>37.939999</td>\n",
       "      <td>36.91999817</td>\n",
       "      <td>37.93999863</td>\n",
       "      <td>37.040001</td>\n",
       "      <td>29765200.0</td>\n",
       "      <td>37.040001</td>\n",
       "      <td>0.0</td>\n",
       "    </tr>\n",
       "    <tr>\n",
       "      <th>...</th>\n",
       "      <td>...</td>\n",
       "      <td>...</td>\n",
       "      <td>...</td>\n",
       "      <td>...</td>\n",
       "      <td>...</td>\n",
       "      <td>...</td>\n",
       "      <td>...</td>\n",
       "      <td>...</td>\n",
       "      <td>...</td>\n",
       "      <td>...</td>\n",
       "      <td>...</td>\n",
       "      <td>...</td>\n",
       "      <td>...</td>\n",
       "      <td>...</td>\n",
       "      <td>...</td>\n",
       "      <td>...</td>\n",
       "      <td>...</td>\n",
       "    </tr>\n",
       "    <tr>\n",
       "      <th>165204</th>\n",
       "      <td>443022</td>\n",
       "      <td>T</td>\n",
       "      <td>opinion</td>\n",
       "      <td>10/31/12</td>\n",
       "      <td>The Gold Report</td>\n",
       "      <td>1</td>\n",
       "      <td>0.052</td>\n",
       "      <td>0.806</td>\n",
       "      <td>0.142</td>\n",
       "      <td>0.9989</td>\n",
       "      <td>34.880001</td>\n",
       "      <td>34.43</td>\n",
       "      <td>34.75</td>\n",
       "      <td>34.590000</td>\n",
       "      <td>20591400.0</td>\n",
       "      <td>21.483995</td>\n",
       "      <td>0.0</td>\n",
       "    </tr>\n",
       "    <tr>\n",
       "      <th>165205</th>\n",
       "      <td>443023</td>\n",
       "      <td>T</td>\n",
       "      <td>opinion</td>\n",
       "      <td>9/24/12</td>\n",
       "      <td>Jeff Miller</td>\n",
       "      <td>1</td>\n",
       "      <td>0.108</td>\n",
       "      <td>0.701</td>\n",
       "      <td>0.190</td>\n",
       "      <td>0.9991</td>\n",
       "      <td>38.490002</td>\n",
       "      <td>38.22</td>\n",
       "      <td>38.3</td>\n",
       "      <td>38.250000</td>\n",
       "      <td>20126200.0</td>\n",
       "      <td>23.484596</td>\n",
       "      <td>0.0</td>\n",
       "    </tr>\n",
       "    <tr>\n",
       "      <th>165206</th>\n",
       "      <td>443024</td>\n",
       "      <td>T</td>\n",
       "      <td>opinion</td>\n",
       "      <td>10/4/12</td>\n",
       "      <td>Ivan Kitov</td>\n",
       "      <td>0</td>\n",
       "      <td>0.152</td>\n",
       "      <td>0.812</td>\n",
       "      <td>0.037</td>\n",
       "      <td>-0.9874</td>\n",
       "      <td>38.430000</td>\n",
       "      <td>38.22</td>\n",
       "      <td>38.33</td>\n",
       "      <td>38.340000</td>\n",
       "      <td>20322700.0</td>\n",
       "      <td>23.539852</td>\n",
       "      <td>1.0</td>\n",
       "    </tr>\n",
       "    <tr>\n",
       "      <th>165207</th>\n",
       "      <td>443025</td>\n",
       "      <td>T</td>\n",
       "      <td>opinion</td>\n",
       "      <td>5/30/12</td>\n",
       "      <td>StreetAuthority</td>\n",
       "      <td>1</td>\n",
       "      <td>0.080</td>\n",
       "      <td>0.738</td>\n",
       "      <td>0.182</td>\n",
       "      <td>0.9899</td>\n",
       "      <td>34.110001</td>\n",
       "      <td>33.7</td>\n",
       "      <td>33.72</td>\n",
       "      <td>33.840000</td>\n",
       "      <td>30160800.0</td>\n",
       "      <td>20.521389</td>\n",
       "      <td>1.0</td>\n",
       "    </tr>\n",
       "    <tr>\n",
       "      <th>165208</th>\n",
       "      <td>443026</td>\n",
       "      <td>T</td>\n",
       "      <td>opinion</td>\n",
       "      <td>7/16/12</td>\n",
       "      <td>Portfolio Cafe</td>\n",
       "      <td>1</td>\n",
       "      <td>0.077</td>\n",
       "      <td>0.661</td>\n",
       "      <td>0.261</td>\n",
       "      <td>0.9993</td>\n",
       "      <td>35.560001</td>\n",
       "      <td>35.19</td>\n",
       "      <td>35.22</td>\n",
       "      <td>35.419998</td>\n",
       "      <td>17691300.0</td>\n",
       "      <td>21.747040</td>\n",
       "      <td>1.0</td>\n",
       "    </tr>\n",
       "  </tbody>\n",
       "</table>\n",
       "<p>165209 rows × 17 columns</p>\n",
       "</div>"
      ],
      "text/plain": [
       "            id ticker category release_date                   provider P/N  \\\n",
       "0       221591   UBER  opinion      1/22/20  Zacks Investment Research   1   \n",
       "1       221600   UBER  opinion      1/22/20  Zacks Investment Research   1   \n",
       "2       221601   UBER     news      1/22/20              Investing.com   1   \n",
       "3       221602   UBER     news      1/22/20                MarketWatch   1   \n",
       "4       221603   UBER     news      1/22/20                    Reuters   1   \n",
       "...        ...    ...      ...          ...                        ...  ..   \n",
       "165204  443022      T  opinion     10/31/12            The Gold Report   1   \n",
       "165205  443023      T  opinion      9/24/12                Jeff Miller   1   \n",
       "165206  443024      T  opinion      10/4/12                 Ivan Kitov   0   \n",
       "165207  443025      T  opinion      5/30/12            StreetAuthority   1   \n",
       "165208  443026      T  opinion      7/16/12             Portfolio Cafe   1   \n",
       "\n",
       "          Neg    Neu    Pos Compound       High          Low         Open  \\\n",
       "0       0.061  0.808  0.132   0.9723  37.939999  36.91999817  37.93999863   \n",
       "1       0.050  0.809  0.141   0.9618  37.939999  36.91999817  37.93999863   \n",
       "2       0.047  0.788  0.165   0.9811  37.939999  36.91999817  37.93999863   \n",
       "3       0.000  0.798  0.202   0.9565  37.939999  36.91999817  37.93999863   \n",
       "4       0.020  0.920  0.060   0.7845  37.939999  36.91999817  37.93999863   \n",
       "...       ...    ...    ...      ...        ...          ...          ...   \n",
       "165204  0.052  0.806  0.142   0.9989  34.880001        34.43        34.75   \n",
       "165205  0.108  0.701  0.190   0.9991  38.490002        38.22         38.3   \n",
       "165206  0.152  0.812  0.037  -0.9874  38.430000        38.22        38.33   \n",
       "165207  0.080  0.738  0.182   0.9899  34.110001         33.7        33.72   \n",
       "165208  0.077  0.661  0.261   0.9993  35.560001        35.19        35.22   \n",
       "\n",
       "            Close      Volume  Adj Close  Stock_op  \n",
       "0       37.040001  29765200.0  37.040001       0.0  \n",
       "1       37.040001  29765200.0  37.040001       0.0  \n",
       "2       37.040001  29765200.0  37.040001       0.0  \n",
       "3       37.040001  29765200.0  37.040001       0.0  \n",
       "4       37.040001  29765200.0  37.040001       0.0  \n",
       "...           ...         ...        ...       ...  \n",
       "165204  34.590000  20591400.0  21.483995       0.0  \n",
       "165205  38.250000  20126200.0  23.484596       0.0  \n",
       "165206  38.340000  20322700.0  23.539852       1.0  \n",
       "165207  33.840000  30160800.0  20.521389       1.0  \n",
       "165208  35.419998  17691300.0  21.747040       1.0  \n",
       "\n",
       "[165209 rows x 17 columns]"
      ]
     },
     "execution_count": 7,
     "metadata": {},
     "output_type": "execute_result"
    }
   ],
   "source": [
    "df"
   ]
  },
  {
   "cell_type": "code",
   "execution_count": 8,
   "metadata": {},
   "outputs": [],
   "source": [
    "df.dropna(inplace = True)"
   ]
  },
  {
   "cell_type": "code",
   "execution_count": 9,
   "metadata": {},
   "outputs": [
    {
     "name": "stdout",
     "output_type": "stream",
     "text": [
      "id               object\n",
      "ticker           object\n",
      "category         object\n",
      "release_date     object\n",
      "provider         object\n",
      "P/N               int64\n",
      "Neg             float64\n",
      "Neu             float64\n",
      "Pos             float64\n",
      "Compound        float64\n",
      "High            float64\n",
      "Low             float64\n",
      "Open            float64\n",
      "Close           float64\n",
      "Volume          float64\n",
      "Adj Close       float64\n",
      "Stock_op        float64\n",
      "dtype: object\n"
     ]
    }
   ],
   "source": [
    "convert_dict = {'P/N':int,\n",
    "                'Compound':float,\n",
    "                'Low':float,\n",
    "                'Open':float\n",
    "               }\n",
    "  \n",
    "df = df.astype(convert_dict)\n",
    "print(df.dtypes)"
   ]
  },
  {
   "cell_type": "code",
   "execution_count": 10,
   "metadata": {},
   "outputs": [],
   "source": [
    "from sklearn.preprocessing import LabelEncoder"
   ]
  },
  {
   "cell_type": "code",
   "execution_count": 11,
   "metadata": {},
   "outputs": [],
   "source": [
    "df['category'] = df[['category']].apply(LabelEncoder().fit_transform)"
   ]
  },
  {
   "cell_type": "code",
   "execution_count": 12,
   "metadata": {},
   "outputs": [],
   "source": [
    "df['provider'] = df[['provider']].apply(LabelEncoder().fit_transform)"
   ]
  },
  {
   "cell_type": "code",
   "execution_count": 13,
   "metadata": {},
   "outputs": [],
   "source": [
    "df['release_date'] = pd.to_datetime(df['release_date'])"
   ]
  },
  {
   "cell_type": "code",
   "execution_count": 14,
   "metadata": {},
   "outputs": [],
   "source": [
    "for i in range(len(df['release_date'])):\n",
    "    try:\n",
    "        df['release_date'].iloc[i] = pd.to_datetime(df['release_date'].iloc[i], format = \"%m/%d/%y\")\n",
    "    except ValueError:\n",
    "        df['release_date'].iloc[i] = np.nan\n",
    "        continue"
   ]
  },
  {
   "cell_type": "code",
   "execution_count": 15,
   "metadata": {},
   "outputs": [],
   "source": [
    "import datetime as dt\n",
    "day = dt.timedelta(days=1)\n",
    "df['day_before'] = df['release_date'] - day"
   ]
  },
  {
   "cell_type": "code",
   "execution_count": 16,
   "metadata": {},
   "outputs": [],
   "source": [
    "stock_df = pd.read_csv('/Users/karteekedumudi/All_Stock_data.csv')"
   ]
  },
  {
   "cell_type": "code",
   "execution_count": 17,
   "metadata": {},
   "outputs": [],
   "source": [
    "for i in range(len(stock_df['Release_date'])):\n",
    "    try:\n",
    "        stock_df['Release_date'].iloc[i] = pd.to_datetime(stock_df['Release_date'].iloc[i], format = \"%Y/%m/%d\")\n",
    "    except ValueError:\n",
    "        stock_df['Release_date'].iloc[i] = np.nan\n",
    "        continue"
   ]
  },
  {
   "cell_type": "code",
   "execution_count": 18,
   "metadata": {},
   "outputs": [],
   "source": [
    "stock_df.dropna(inplace = True)"
   ]
  },
  {
   "cell_type": "code",
   "execution_count": 19,
   "metadata": {},
   "outputs": [],
   "source": [
    "stock_df['Release_date'] = pd.to_datetime(stock_df['Release_date'])"
   ]
  },
  {
   "cell_type": "code",
   "execution_count": 20,
   "metadata": {},
   "outputs": [],
   "source": [
    "df_new = df.merge(stock_df[['Volume','id','Release_date']],\n",
    "                  how='inner', left_on=['ticker','day_before'], right_on=['id','Release_date'])"
   ]
  },
  {
   "cell_type": "code",
   "execution_count": 21,
   "metadata": {},
   "outputs": [],
   "source": [
    "df_new['ID'] = df_new[['ticker']].apply(LabelEncoder().fit_transform)"
   ]
  },
  {
   "cell_type": "code",
   "execution_count": 22,
   "metadata": {},
   "outputs": [
    {
     "name": "stdout",
     "output_type": "stream",
     "text": [
      "<class 'pandas.core.frame.DataFrame'>\n",
      "Int64Index: 799851 entries, 0 to 799850\n",
      "Data columns (total 10 columns):\n",
      " #   Column            Non-Null Count   Dtype         \n",
      "---  ------            --------------   -----         \n",
      " 0   Date              799851 non-null  object        \n",
      " 1   High              799851 non-null  float64       \n",
      " 2   Low               799851 non-null  float64       \n",
      " 3   Open              799851 non-null  float64       \n",
      " 4   Close             799851 non-null  float64       \n",
      " 5   Volume            799851 non-null  float64       \n",
      " 6   Adj Close         799851 non-null  float64       \n",
      " 7   id                799851 non-null  object        \n",
      " 8   Release_date      799851 non-null  datetime64[ns]\n",
      " 9   Percentae_change  799851 non-null  float64       \n",
      "dtypes: datetime64[ns](1), float64(7), object(2)\n",
      "memory usage: 67.1+ MB\n"
     ]
    }
   ],
   "source": [
    "stock_df.info()"
   ]
  },
  {
   "cell_type": "code",
   "execution_count": 23,
   "metadata": {},
   "outputs": [
    {
     "name": "stdout",
     "output_type": "stream",
     "text": [
      "<class 'pandas.core.frame.DataFrame'>\n",
      "Int64Index: 163174 entries, 0 to 165208\n",
      "Data columns (total 18 columns):\n",
      " #   Column        Non-Null Count   Dtype         \n",
      "---  ------        --------------   -----         \n",
      " 0   id            163174 non-null  object        \n",
      " 1   ticker        163174 non-null  object        \n",
      " 2   category      163174 non-null  int64         \n",
      " 3   release_date  163174 non-null  datetime64[ns]\n",
      " 4   provider      163174 non-null  int64         \n",
      " 5   P/N           163174 non-null  int64         \n",
      " 6   Neg           163174 non-null  float64       \n",
      " 7   Neu           163174 non-null  float64       \n",
      " 8   Pos           163174 non-null  float64       \n",
      " 9   Compound      163174 non-null  float64       \n",
      " 10  High          163174 non-null  float64       \n",
      " 11  Low           163174 non-null  float64       \n",
      " 12  Open          163174 non-null  float64       \n",
      " 13  Close         163174 non-null  float64       \n",
      " 14  Volume        163174 non-null  float64       \n",
      " 15  Adj Close     163174 non-null  float64       \n",
      " 16  Stock_op      163174 non-null  float64       \n",
      " 17  day_before    163174 non-null  datetime64[ns]\n",
      "dtypes: datetime64[ns](2), float64(11), int64(3), object(2)\n",
      "memory usage: 23.7+ MB\n"
     ]
    }
   ],
   "source": [
    "df.info()"
   ]
  },
  {
   "cell_type": "code",
   "execution_count": 24,
   "metadata": {},
   "outputs": [
    {
     "data": {
      "text/plain": [
       "Index(['id_x', 'ticker', 'category', 'release_date', 'provider', 'P/N', 'Neg',\n",
       "       'Neu', 'Pos', 'Compound', 'High', 'Low', 'Open', 'Close', 'Volume_x',\n",
       "       'Adj Close', 'Stock_op', 'day_before', 'Volume_y', 'id_y',\n",
       "       'Release_date'],\n",
       "      dtype='object')"
      ]
     },
     "execution_count": 24,
     "metadata": {},
     "output_type": "execute_result"
    }
   ],
   "source": [
    "df_new.columns"
   ]
  },
  {
   "cell_type": "code",
   "execution_count": 25,
   "metadata": {},
   "outputs": [],
   "source": [
    "X = df_new.drop(columns = ['release_date','id_x','High','Low','Stock_op','Close','Adj Close','Volume_x','id_y','Release_date','day_before','ticker'], axis = 1)"
   ]
  },
  {
   "cell_type": "code",
   "execution_count": 26,
   "metadata": {},
   "outputs": [
    {
     "data": {
      "text/html": [
       "<div>\n",
       "<style scoped>\n",
       "    .dataframe tbody tr th:only-of-type {\n",
       "        vertical-align: middle;\n",
       "    }\n",
       "\n",
       "    .dataframe tbody tr th {\n",
       "        vertical-align: top;\n",
       "    }\n",
       "\n",
       "    .dataframe thead th {\n",
       "        text-align: right;\n",
       "    }\n",
       "</style>\n",
       "<table border=\"1\" class=\"dataframe\">\n",
       "  <thead>\n",
       "    <tr style=\"text-align: right;\">\n",
       "      <th></th>\n",
       "      <th>ticker</th>\n",
       "      <th>category</th>\n",
       "      <th>provider</th>\n",
       "      <th>P/N</th>\n",
       "      <th>Neg</th>\n",
       "      <th>Neu</th>\n",
       "      <th>Pos</th>\n",
       "      <th>Compound</th>\n",
       "      <th>Open</th>\n",
       "      <th>Volume_y</th>\n",
       "    </tr>\n",
       "  </thead>\n",
       "  <tbody>\n",
       "    <tr>\n",
       "      <th>0</th>\n",
       "      <td>258</td>\n",
       "      <td>1</td>\n",
       "      <td>875</td>\n",
       "      <td>1</td>\n",
       "      <td>0.061</td>\n",
       "      <td>0.808</td>\n",
       "      <td>0.132</td>\n",
       "      <td>0.9723</td>\n",
       "      <td>37.939999</td>\n",
       "      <td>48746700.0</td>\n",
       "    </tr>\n",
       "    <tr>\n",
       "      <th>1</th>\n",
       "      <td>258</td>\n",
       "      <td>1</td>\n",
       "      <td>875</td>\n",
       "      <td>1</td>\n",
       "      <td>0.050</td>\n",
       "      <td>0.809</td>\n",
       "      <td>0.141</td>\n",
       "      <td>0.9618</td>\n",
       "      <td>37.939999</td>\n",
       "      <td>48746700.0</td>\n",
       "    </tr>\n",
       "    <tr>\n",
       "      <th>2</th>\n",
       "      <td>258</td>\n",
       "      <td>0</td>\n",
       "      <td>401</td>\n",
       "      <td>1</td>\n",
       "      <td>0.047</td>\n",
       "      <td>0.788</td>\n",
       "      <td>0.165</td>\n",
       "      <td>0.9811</td>\n",
       "      <td>37.939999</td>\n",
       "      <td>48746700.0</td>\n",
       "    </tr>\n",
       "    <tr>\n",
       "      <th>3</th>\n",
       "      <td>258</td>\n",
       "      <td>0</td>\n",
       "      <td>561</td>\n",
       "      <td>1</td>\n",
       "      <td>0.000</td>\n",
       "      <td>0.798</td>\n",
       "      <td>0.202</td>\n",
       "      <td>0.9565</td>\n",
       "      <td>37.939999</td>\n",
       "      <td>48746700.0</td>\n",
       "    </tr>\n",
       "    <tr>\n",
       "      <th>4</th>\n",
       "      <td>258</td>\n",
       "      <td>0</td>\n",
       "      <td>686</td>\n",
       "      <td>1</td>\n",
       "      <td>0.020</td>\n",
       "      <td>0.920</td>\n",
       "      <td>0.060</td>\n",
       "      <td>0.7845</td>\n",
       "      <td>37.939999</td>\n",
       "      <td>48746700.0</td>\n",
       "    </tr>\n",
       "    <tr>\n",
       "      <th>...</th>\n",
       "      <td>...</td>\n",
       "      <td>...</td>\n",
       "      <td>...</td>\n",
       "      <td>...</td>\n",
       "      <td>...</td>\n",
       "      <td>...</td>\n",
       "      <td>...</td>\n",
       "      <td>...</td>\n",
       "      <td>...</td>\n",
       "      <td>...</td>\n",
       "    </tr>\n",
       "    <tr>\n",
       "      <th>127606</th>\n",
       "      <td>244</td>\n",
       "      <td>1</td>\n",
       "      <td>799</td>\n",
       "      <td>1</td>\n",
       "      <td>0.049</td>\n",
       "      <td>0.811</td>\n",
       "      <td>0.140</td>\n",
       "      <td>0.9984</td>\n",
       "      <td>34.270000</td>\n",
       "      <td>34858000.0</td>\n",
       "    </tr>\n",
       "    <tr>\n",
       "      <th>127607</th>\n",
       "      <td>244</td>\n",
       "      <td>1</td>\n",
       "      <td>409</td>\n",
       "      <td>1</td>\n",
       "      <td>0.088</td>\n",
       "      <td>0.775</td>\n",
       "      <td>0.137</td>\n",
       "      <td>0.9432</td>\n",
       "      <td>33.869999</td>\n",
       "      <td>19995900.0</td>\n",
       "    </tr>\n",
       "    <tr>\n",
       "      <th>127608</th>\n",
       "      <td>244</td>\n",
       "      <td>1</td>\n",
       "      <td>188</td>\n",
       "      <td>1</td>\n",
       "      <td>0.101</td>\n",
       "      <td>0.785</td>\n",
       "      <td>0.113</td>\n",
       "      <td>0.9828</td>\n",
       "      <td>33.650002</td>\n",
       "      <td>25150900.0</td>\n",
       "    </tr>\n",
       "    <tr>\n",
       "      <th>127609</th>\n",
       "      <td>244</td>\n",
       "      <td>1</td>\n",
       "      <td>409</td>\n",
       "      <td>0</td>\n",
       "      <td>0.152</td>\n",
       "      <td>0.812</td>\n",
       "      <td>0.037</td>\n",
       "      <td>-0.9874</td>\n",
       "      <td>38.330002</td>\n",
       "      <td>21572900.0</td>\n",
       "    </tr>\n",
       "    <tr>\n",
       "      <th>127610</th>\n",
       "      <td>244</td>\n",
       "      <td>1</td>\n",
       "      <td>773</td>\n",
       "      <td>1</td>\n",
       "      <td>0.080</td>\n",
       "      <td>0.738</td>\n",
       "      <td>0.182</td>\n",
       "      <td>0.9899</td>\n",
       "      <td>33.720001</td>\n",
       "      <td>22911100.0</td>\n",
       "    </tr>\n",
       "  </tbody>\n",
       "</table>\n",
       "<p>127611 rows × 10 columns</p>\n",
       "</div>"
      ],
      "text/plain": [
       "        ticker  category  provider  P/N    Neg    Neu    Pos  Compound  \\\n",
       "0          258         1       875    1  0.061  0.808  0.132    0.9723   \n",
       "1          258         1       875    1  0.050  0.809  0.141    0.9618   \n",
       "2          258         0       401    1  0.047  0.788  0.165    0.9811   \n",
       "3          258         0       561    1  0.000  0.798  0.202    0.9565   \n",
       "4          258         0       686    1  0.020  0.920  0.060    0.7845   \n",
       "...        ...       ...       ...  ...    ...    ...    ...       ...   \n",
       "127606     244         1       799    1  0.049  0.811  0.140    0.9984   \n",
       "127607     244         1       409    1  0.088  0.775  0.137    0.9432   \n",
       "127608     244         1       188    1  0.101  0.785  0.113    0.9828   \n",
       "127609     244         1       409    0  0.152  0.812  0.037   -0.9874   \n",
       "127610     244         1       773    1  0.080  0.738  0.182    0.9899   \n",
       "\n",
       "             Open    Volume_y  \n",
       "0       37.939999  48746700.0  \n",
       "1       37.939999  48746700.0  \n",
       "2       37.939999  48746700.0  \n",
       "3       37.939999  48746700.0  \n",
       "4       37.939999  48746700.0  \n",
       "...           ...         ...  \n",
       "127606  34.270000  34858000.0  \n",
       "127607  33.869999  19995900.0  \n",
       "127608  33.650002  25150900.0  \n",
       "127609  38.330002  21572900.0  \n",
       "127610  33.720001  22911100.0  \n",
       "\n",
       "[127611 rows x 10 columns]"
      ]
     },
     "execution_count": 26,
     "metadata": {},
     "output_type": "execute_result"
    }
   ],
   "source": [
    "X"
   ]
  },
  {
   "cell_type": "code",
   "execution_count": 27,
   "metadata": {},
   "outputs": [],
   "source": [
    "y = df_new['Stock_op']"
   ]
  },
  {
   "cell_type": "code",
   "execution_count": 28,
   "metadata": {},
   "outputs": [],
   "source": [
    "from sklearn.model_selection import train_test_split"
   ]
  },
  {
   "cell_type": "code",
   "execution_count": 29,
   "metadata": {},
   "outputs": [],
   "source": [
    " X_train, X_test, y_train, y_test = train_test_split(X, y, test_size=0.3, random_state=42)"
   ]
  },
  {
   "cell_type": "code",
   "execution_count": 30,
   "metadata": {},
   "outputs": [],
   "source": [
    "from sklearn.ensemble import RandomForestClassifier"
   ]
  },
  {
   "cell_type": "code",
   "execution_count": 31,
   "metadata": {},
   "outputs": [],
   "source": [
    "model = RandomForestClassifier()"
   ]
  },
  {
   "cell_type": "code",
   "execution_count": 32,
   "metadata": {},
   "outputs": [
    {
     "data": {
      "text/plain": [
       "0.5863807334656775"
      ]
     },
     "execution_count": 32,
     "metadata": {},
     "output_type": "execute_result"
    }
   ],
   "source": [
    "from sklearn.metrics import accuracy_score\n",
    "model.fit(X_train, y_train)\n",
    "y_pred = model.predict(X_test)\n",
    "accuracy_score(y_test, y_pred)"
   ]
  },
  {
   "cell_type": "code",
   "execution_count": null,
   "metadata": {},
   "outputs": [],
   "source": [
    "from sklearn.feature_selection import RFE\n",
    "import numpy as np\n",
    "#no of features\n",
    "nof_list=np.arange(1,10)            \n",
    "high_score=0\n",
    "#Variable to store the optimum features\n",
    "nof=0           \n",
    "score_list =[]\n",
    "for n in range(len(nof_list)):\n",
    "    X_train, X_test, y_train, y_test = train_test_split(X,y, test_size = 0.3, random_state = 42)\n",
    "    model = RandomForestClassifier()\n",
    "    rfe = RFE(model,nof_list[n])\n",
    "    X_train_rfe = rfe.fit_transform(X_train,y_train)\n",
    "    X_test_rfe = rfe.transform(X_test)\n",
    "    model.fit(X_train_rfe,y_train)\n",
    "    score = model.score(X_test_rfe,y_test)\n",
    "    score_list.append(score)\n",
    "    if(score>high_score):\n",
    "        high_score = score\n",
    "        nof = nof_list[n]\n",
    "print(\"Optimum number of features: %d\" %nof)\n",
    "print(\"Score with %d features: %f\" % (nof, high_score))"
   ]
  },
  {
   "cell_type": "code",
   "execution_count": null,
   "metadata": {},
   "outputs": [],
   "source": [
    "score_list"
   ]
  },
  {
   "cell_type": "code",
   "execution_count": null,
   "metadata": {},
   "outputs": [],
   "source": [
    "X_train, X_test, y_train, y_test = train_test_split(X,y, test_size = 0.3, random_state = 42)\n",
    "model = RandomForestClassifier()\n",
    "rfe = RFE(model,nof)\n",
    "X_train_rfe = rfe.fit_transform(X_train,y_train)\n",
    "X_test_rfe = rfe.transform(X_test)\n",
    "model.fit(X_train_rfe,y_train)\n",
    "score = model.score(X_test_rfe,y_test)"
   ]
  },
  {
   "cell_type": "code",
   "execution_count": null,
   "metadata": {},
   "outputs": [],
   "source": [
    "score"
   ]
  },
  {
   "cell_type": "code",
   "execution_count": null,
   "metadata": {},
   "outputs": [],
   "source": [
    "rfe.support_"
   ]
  },
  {
   "cell_type": "code",
   "execution_count": null,
   "metadata": {},
   "outputs": [],
   "source": [
    "rfe.ranking_"
   ]
  },
  {
   "cell_type": "code",
   "execution_count": null,
   "metadata": {},
   "outputs": [],
   "source": []
  },
  {
   "cell_type": "code",
   "execution_count": null,
   "metadata": {},
   "outputs": [],
   "source": []
  },
  {
   "cell_type": "code",
   "execution_count": null,
   "metadata": {},
   "outputs": [],
   "source": []
  },
  {
   "cell_type": "code",
   "execution_count": null,
   "metadata": {},
   "outputs": [],
   "source": []
  },
  {
   "cell_type": "code",
   "execution_count": null,
   "metadata": {},
   "outputs": [],
   "source": [
    "df_new['Year'] = df_new['release_date'].dt.year\n",
    "df_new['Month'] = df_new['release_date'].dt.month\n",
    "df_new['week'] = df_new['release_date'].dt.week"
   ]
  },
  {
   "cell_type": "code",
   "execution_count": null,
   "metadata": {},
   "outputs": [],
   "source": [
    "df = pd.DataFrame(df_new[['ticker','week','Month','Year','Volume']].groupby(by = ['ticker','week','Month','Year']).mean())"
   ]
  },
  {
   "cell_type": "code",
   "execution_count": null,
   "metadata": {},
   "outputs": [],
   "source": []
  },
  {
   "cell_type": "code",
   "execution_count": null,
   "metadata": {},
   "outputs": [],
   "source": []
  },
  {
   "cell_type": "code",
   "execution_count": null,
   "metadata": {},
   "outputs": [],
   "source": []
  },
  {
   "cell_type": "code",
   "execution_count": null,
   "metadata": {},
   "outputs": [],
   "source": []
  }
 ],
 "metadata": {
  "kernelspec": {
   "display_name": "Python 3",
   "language": "python",
   "name": "python3"
  },
  "language_info": {
   "codemirror_mode": {
    "name": "ipython",
    "version": 3
   },
   "file_extension": ".py",
   "mimetype": "text/x-python",
   "name": "python",
   "nbconvert_exporter": "python",
   "pygments_lexer": "ipython3",
   "version": "3.8.5"
  }
 },
 "nbformat": 4,
 "nbformat_minor": 4
}
